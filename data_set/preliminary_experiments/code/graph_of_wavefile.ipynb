{
 "cells": [
  {
   "cell_type": "code",
   "execution_count": 16,
   "metadata": {},
   "outputs": [],
   "source": [
    "# encoding: utf-8\n",
    "import wave\n",
    "import numpy as np\n",
    "import matplotlib.pyplot as plt"
   ]
  },
  {
   "cell_type": "code",
   "execution_count": 17,
   "metadata": {},
   "outputs": [],
   "source": [
    "# File open\n",
    "fname = '/Users/jin237/Documents/juxtaphony_project/new_iinodemo/Audio/throat_iinodemo_03.wav'\n",
    "wfile = wave.open(fname, 'r')"
   ]
  },
  {
   "cell_type": "code",
   "execution_count": 18,
   "metadata": {},
   "outputs": [],
   "source": [
    "# Get channels, sample width, sampling rate, the number of sample\n",
    "numch = wfile.getnchannels()\n",
    "samplewidth = wfile.getsampwidth()\n",
    "samplerate = wfile.getframerate()\n",
    "numsamples = wfile.getnframes()"
   ]
  },
  {
   "cell_type": "code",
   "execution_count": 19,
   "metadata": {},
   "outputs": [
    {
     "name": "stdout",
     "output_type": "stream",
     "text": [
      "チャンネル数 =  1\n",
      "サンプル幅 (バイト数) =  2\n",
      "サンプリングレート (Hz) = 44100\n",
      "サンプル数 = 757694\n",
      "録音時間 = 17.18126984126984\n"
     ]
    }
   ],
   "source": [
    "# Print each value\n",
    "print(\"チャンネル数 = \", numch)\n",
    "print(\"サンプル幅 (バイト数) = \", samplewidth)\n",
    "print(\"サンプリングレート (Hz) =\", samplerate)\n",
    "print(\"サンプル数 =\", numsamples)\n",
    "print(\"録音時間 =\", numsamples / samplerate)"
   ]
  },
  {
   "cell_type": "code",
   "execution_count": 20,
   "metadata": {},
   "outputs": [],
   "source": [
    "# Read all frame\n",
    "buf = wfile.readframes(numsamples)\n",
    "wfile.close()"
   ]
  },
  {
   "cell_type": "code",
   "execution_count": 21,
   "metadata": {},
   "outputs": [],
   "source": [
    "# Change to ndarray of numpy\n",
    "data = np.frombuffer(buf, dtype='int16')\n",
    "data = data/32768.0\n",
    "data = data[0::2]"
   ]
  },
  {
   "cell_type": "code",
   "execution_count": 22,
   "metadata": {},
   "outputs": [],
   "source": [
    "# output sampling rate from No.62000\n",
    "# Do the DFT:Discrete Fourier Transform\n",
    "start = 62000\n",
    "N = samplerate\n",
    "c = np.fft.fft(data[start:start+N])\n",
    "c = abs(c)"
   ]
  },
  {
   "cell_type": "code",
   "execution_count": 23,
   "metadata": {},
   "outputs": [
    {
     "data": {
      "image/png": "[encoded data removed]",
      "text/plain": [
       "<Figure size 432x288 with 2 Axes>"
      ]
     },
     "metadata": {
      "needs_background": "light"
     },
     "output_type": "display_data"
    }
   ],
   "source": [
    "# Graph Plot\n",
    "plt.subplot(2,1,1)\n",
    "plt.title('data')\n",
    "plt.plot(range(start, start+N), data[start:start+N])\n",
    "plt.savefig('conde_iinodemo.png')\n",
    "plt.subplot(2,1,2)\n",
    "plt.title('frequency spectrum')\n",
    "plt.plot(c, linestyle='-')\n",
    "plt.tight_layout()\n",
    "plt.savefig('conde_iinodemo.png')"
   ]
  },
  {
   "cell_type": "code",
   "execution_count": null,
   "metadata": {},
   "outputs": [],
   "source": []
  },
  {
   "cell_type": "code",
   "execution_count": null,
   "metadata": {},
   "outputs": [],
   "source": []
  }
 ],
 "metadata": {
  "kernelspec": {
   "display_name": "Python 3",
   "language": "python",
   "name": "python3"
  },
  "language_info": {
   "codemirror_mode": {
    "name": "ipython",
    "version": 3
   },
   "file_extension": ".py",
   "mimetype": "text/x-python",
   "name": "python",
   "nbconvert_exporter": "python",
   "pygments_lexer": "ipython3",
   "version": "3.8.3"
  }
 },
 "nbformat": 4,
 "nbformat_minor": 4
}
